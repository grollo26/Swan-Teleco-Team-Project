{
 "cells": [
  {
   "cell_type": "markdown",
   "id": "2e20a2b1-610a-4877-a2ff-13490df1706d",
   "metadata": {},
   "source": [
    "# Swan Teleco Project "
   ]
  },
  {
   "cell_type": "markdown",
   "id": "eb389335-68bd-489d-aad8-93b07a66dbea",
   "metadata": {
    "tags": []
   },
   "source": [
    "## Importing the Libraries\n",
    "**Purpose:** Import necessary libraries for data manipulation, visualization, and machine learning."
   ]
  },
  {
   "cell_type": "code",
   "execution_count": 39,
   "id": "40dc7e06-08f1-4605-b683-eab479d04188",
   "metadata": {},
   "outputs": [],
   "source": [
    "import numpy as np\n",
    "import seaborn as sns\n",
    "import matplotlib.pyplot as plt\n",
    "import pandas as pd\n",
    "\n",
    "from sklearn import metrics\n",
    "from sklearn.model_selection import train_test_split\n",
    "\n",
    "from sklearn.tree import DecisionTreeClassifier as DT\n",
    "from sklearn.ensemble import RandomForestClassifier as RF\n",
    "from sklearn.model_selection import train_test_split, cross_val_score, GridSearchCV\n",
    "from sklearn.metrics import confusion_matrix, accuracy_score\n",
    "from sklearn.ensemble import BaggingClassifier\n",
    "from sklearn.ensemble import RandomForestClassifier, ExtraTreesClassifier"
   ]
  },
  {
   "cell_type": "markdown",
   "id": "384ffd95-5792-43e3-9c6c-4b9c59237864",
   "metadata": {},
   "source": [
    "## Loading the Dataset\n",
    "**Purpose:** Load the project data from a CSV file into a pandas DataFrame."
   ]
  },
  {
   "cell_type": "code",
   "execution_count": 40,
   "id": "5297a43c-f048-408a-8927-e18ce54d13b0",
   "metadata": {},
   "outputs": [],
   "source": [
    "df = pd.read_csv(\"1_-_Project_Data.csv\")"
   ]
  },
  {
   "cell_type": "code",
   "execution_count": 41,
   "id": "8b132696-407e-49be-a2dd-e90719812d3a",
   "metadata": {},
   "outputs": [
    {
     "data": {
      "text/html": [
       "<div>\n",
       "<style scoped>\n",
       "    .dataframe tbody tr th:only-of-type {\n",
       "        vertical-align: middle;\n",
       "    }\n",
       "\n",
       "    .dataframe tbody tr th {\n",
       "        vertical-align: top;\n",
       "    }\n",
       "\n",
       "    .dataframe thead th {\n",
       "        text-align: right;\n",
       "    }\n",
       "</style>\n",
       "<table border=\"1\" class=\"dataframe\">\n",
       "  <thead>\n",
       "    <tr style=\"text-align: right;\">\n",
       "      <th></th>\n",
       "      <th>CustomerID</th>\n",
       "      <th>Count</th>\n",
       "      <th>Country</th>\n",
       "      <th>State</th>\n",
       "      <th>City</th>\n",
       "      <th>Zip Code</th>\n",
       "      <th>Lat Long</th>\n",
       "      <th>Latitude</th>\n",
       "      <th>Longitude</th>\n",
       "      <th>Gender</th>\n",
       "      <th>...</th>\n",
       "      <th>Streaming TV</th>\n",
       "      <th>Streaming Movies</th>\n",
       "      <th>Contract</th>\n",
       "      <th>Paperless Billing</th>\n",
       "      <th>Payment Method</th>\n",
       "      <th>Monthly Charges</th>\n",
       "      <th>Total Charges</th>\n",
       "      <th>Churn Label</th>\n",
       "      <th>Churn Value</th>\n",
       "      <th>Churn Reason</th>\n",
       "    </tr>\n",
       "  </thead>\n",
       "  <tbody>\n",
       "    <tr>\n",
       "      <th>0</th>\n",
       "      <td>3668-QPYBK</td>\n",
       "      <td>1</td>\n",
       "      <td>United States</td>\n",
       "      <td>California</td>\n",
       "      <td>Los Angeles</td>\n",
       "      <td>90003</td>\n",
       "      <td>33.964131, -118.272783</td>\n",
       "      <td>33.964131</td>\n",
       "      <td>-118.272783</td>\n",
       "      <td>Male</td>\n",
       "      <td>...</td>\n",
       "      <td>No</td>\n",
       "      <td>No</td>\n",
       "      <td>Month-to-month</td>\n",
       "      <td>Yes</td>\n",
       "      <td>Mailed check</td>\n",
       "      <td>53.85</td>\n",
       "      <td>108.15</td>\n",
       "      <td>Yes</td>\n",
       "      <td>1</td>\n",
       "      <td>Competitor made better offer</td>\n",
       "    </tr>\n",
       "    <tr>\n",
       "      <th>1</th>\n",
       "      <td>9237-HQITU</td>\n",
       "      <td>1</td>\n",
       "      <td>United States</td>\n",
       "      <td>California</td>\n",
       "      <td>Los Angeles</td>\n",
       "      <td>90005</td>\n",
       "      <td>34.059281, -118.30742</td>\n",
       "      <td>34.059281</td>\n",
       "      <td>-118.307420</td>\n",
       "      <td>Female</td>\n",
       "      <td>...</td>\n",
       "      <td>No</td>\n",
       "      <td>No</td>\n",
       "      <td>Month-to-month</td>\n",
       "      <td>Yes</td>\n",
       "      <td>Electronic check</td>\n",
       "      <td>70.70</td>\n",
       "      <td>151.65</td>\n",
       "      <td>Yes</td>\n",
       "      <td>1</td>\n",
       "      <td>Moved</td>\n",
       "    </tr>\n",
       "    <tr>\n",
       "      <th>2</th>\n",
       "      <td>9305-CDSKC</td>\n",
       "      <td>1</td>\n",
       "      <td>United States</td>\n",
       "      <td>California</td>\n",
       "      <td>Los Angeles</td>\n",
       "      <td>90006</td>\n",
       "      <td>34.048013, -118.293953</td>\n",
       "      <td>34.048013</td>\n",
       "      <td>-118.293953</td>\n",
       "      <td>Female</td>\n",
       "      <td>...</td>\n",
       "      <td>Yes</td>\n",
       "      <td>Yes</td>\n",
       "      <td>Month-to-month</td>\n",
       "      <td>Yes</td>\n",
       "      <td>Electronic check</td>\n",
       "      <td>99.65</td>\n",
       "      <td>820.5</td>\n",
       "      <td>Yes</td>\n",
       "      <td>1</td>\n",
       "      <td>Moved</td>\n",
       "    </tr>\n",
       "    <tr>\n",
       "      <th>3</th>\n",
       "      <td>7892-POOKP</td>\n",
       "      <td>1</td>\n",
       "      <td>United States</td>\n",
       "      <td>California</td>\n",
       "      <td>Los Angeles</td>\n",
       "      <td>90010</td>\n",
       "      <td>34.062125, -118.315709</td>\n",
       "      <td>34.062125</td>\n",
       "      <td>-118.315709</td>\n",
       "      <td>Female</td>\n",
       "      <td>...</td>\n",
       "      <td>Yes</td>\n",
       "      <td>Yes</td>\n",
       "      <td>Month-to-month</td>\n",
       "      <td>Yes</td>\n",
       "      <td>Electronic check</td>\n",
       "      <td>104.80</td>\n",
       "      <td>3046.05</td>\n",
       "      <td>Yes</td>\n",
       "      <td>1</td>\n",
       "      <td>Moved</td>\n",
       "    </tr>\n",
       "    <tr>\n",
       "      <th>4</th>\n",
       "      <td>0280-XJGEX</td>\n",
       "      <td>1</td>\n",
       "      <td>United States</td>\n",
       "      <td>California</td>\n",
       "      <td>Los Angeles</td>\n",
       "      <td>90015</td>\n",
       "      <td>34.039224, -118.266293</td>\n",
       "      <td>34.039224</td>\n",
       "      <td>-118.266293</td>\n",
       "      <td>Male</td>\n",
       "      <td>...</td>\n",
       "      <td>Yes</td>\n",
       "      <td>Yes</td>\n",
       "      <td>Month-to-month</td>\n",
       "      <td>Yes</td>\n",
       "      <td>Bank transfer (automatic)</td>\n",
       "      <td>103.70</td>\n",
       "      <td>5036.3</td>\n",
       "      <td>Yes</td>\n",
       "      <td>1</td>\n",
       "      <td>Competitor had better devices</td>\n",
       "    </tr>\n",
       "  </tbody>\n",
       "</table>\n",
       "<p>5 rows × 31 columns</p>\n",
       "</div>"
      ],
      "text/plain": [
       "   CustomerID  Count        Country       State         City  Zip Code  \\\n",
       "0  3668-QPYBK      1  United States  California  Los Angeles     90003   \n",
       "1  9237-HQITU      1  United States  California  Los Angeles     90005   \n",
       "2  9305-CDSKC      1  United States  California  Los Angeles     90006   \n",
       "3  7892-POOKP      1  United States  California  Los Angeles     90010   \n",
       "4  0280-XJGEX      1  United States  California  Los Angeles     90015   \n",
       "\n",
       "                 Lat Long   Latitude   Longitude  Gender  ... Streaming TV  \\\n",
       "0  33.964131, -118.272783  33.964131 -118.272783    Male  ...           No   \n",
       "1   34.059281, -118.30742  34.059281 -118.307420  Female  ...           No   \n",
       "2  34.048013, -118.293953  34.048013 -118.293953  Female  ...          Yes   \n",
       "3  34.062125, -118.315709  34.062125 -118.315709  Female  ...          Yes   \n",
       "4  34.039224, -118.266293  34.039224 -118.266293    Male  ...          Yes   \n",
       "\n",
       "  Streaming Movies        Contract  Paperless Billing  \\\n",
       "0               No  Month-to-month                Yes   \n",
       "1               No  Month-to-month                Yes   \n",
       "2              Yes  Month-to-month                Yes   \n",
       "3              Yes  Month-to-month                Yes   \n",
       "4              Yes  Month-to-month                Yes   \n",
       "\n",
       "              Payment Method Monthly Charges Total Charges Churn Label  \\\n",
       "0               Mailed check           53.85        108.15         Yes   \n",
       "1           Electronic check           70.70        151.65         Yes   \n",
       "2           Electronic check           99.65         820.5         Yes   \n",
       "3           Electronic check          104.80       3046.05         Yes   \n",
       "4  Bank transfer (automatic)          103.70        5036.3         Yes   \n",
       "\n",
       "  Churn Value                   Churn Reason  \n",
       "0           1   Competitor made better offer  \n",
       "1           1                          Moved  \n",
       "2           1                          Moved  \n",
       "3           1                          Moved  \n",
       "4           1  Competitor had better devices  \n",
       "\n",
       "[5 rows x 31 columns]"
      ]
     },
     "execution_count": 41,
     "metadata": {},
     "output_type": "execute_result"
    }
   ],
   "source": [
    "df.head()"
   ]
  },
  {
   "cell_type": "markdown",
   "id": "0fe113bb-6da0-44ec-b843-e8e450197f83",
   "metadata": {},
   "source": [
    "## Explore Data Structure\n",
    "**Purpose:** Examine the dataset’s columns, shape, null values, and data types."
   ]
  },
  {
   "cell_type": "code",
   "execution_count": 42,
   "id": "0deda841-1caa-4b18-bb81-cbfa7e09d516",
   "metadata": {},
   "outputs": [
    {
     "data": {
      "text/plain": [
       "Index(['CustomerID', 'Count', 'Country', 'State', 'City', 'Zip Code',\n",
       "       'Lat Long', 'Latitude', 'Longitude', 'Gender', 'Senior Citizen',\n",
       "       'Partner', 'Dependents', 'Tenure Months', 'Phone Service',\n",
       "       'Multiple Lines', 'Internet Service', 'Online Security',\n",
       "       'Online Backup', 'Device Protection', 'Tech Support', 'Streaming TV',\n",
       "       'Streaming Movies', 'Contract', 'Paperless Billing', 'Payment Method',\n",
       "       'Monthly Charges', 'Total Charges', 'Churn Label', 'Churn Value',\n",
       "       'Churn Reason'],\n",
       "      dtype='object')"
      ]
     },
     "execution_count": 42,
     "metadata": {},
     "output_type": "execute_result"
    }
   ],
   "source": [
    "df.columns"
   ]
  },
  {
   "cell_type": "code",
   "execution_count": 43,
   "id": "e6689445-82df-417d-b708-209055513c1e",
   "metadata": {},
   "outputs": [
    {
     "data": {
      "text/plain": [
       "(7043, 31)"
      ]
     },
     "execution_count": 43,
     "metadata": {},
     "output_type": "execute_result"
    }
   ],
   "source": [
    "df.shape"
   ]
  },
  {
   "cell_type": "code",
   "execution_count": 44,
   "id": "4de1e129-8e84-4528-a164-1f6b90407793",
   "metadata": {},
   "outputs": [
    {
     "data": {
      "text/plain": [
       "CustomerID              0\n",
       "Count                   0\n",
       "Country                 0\n",
       "State                   0\n",
       "City                    0\n",
       "Zip Code                0\n",
       "Lat Long                0\n",
       "Latitude                0\n",
       "Longitude               0\n",
       "Gender                  0\n",
       "Senior Citizen          0\n",
       "Partner                 0\n",
       "Dependents              0\n",
       "Tenure Months           0\n",
       "Phone Service           0\n",
       "Multiple Lines          0\n",
       "Internet Service        0\n",
       "Online Security         0\n",
       "Online Backup           0\n",
       "Device Protection       0\n",
       "Tech Support            0\n",
       "Streaming TV            0\n",
       "Streaming Movies        0\n",
       "Contract                0\n",
       "Paperless Billing       0\n",
       "Payment Method          0\n",
       "Monthly Charges         0\n",
       "Total Charges           0\n",
       "Churn Label             0\n",
       "Churn Value             0\n",
       "Churn Reason         5174\n",
       "dtype: int64"
      ]
     },
     "execution_count": 44,
     "metadata": {},
     "output_type": "execute_result"
    }
   ],
   "source": [
    "df.isnull().sum() # No nulls "
   ]
  },
  {
   "cell_type": "code",
   "execution_count": 45,
   "id": "55e87ac4-d992-483f-9ec1-47fac54917ab",
   "metadata": {},
   "outputs": [
    {
     "data": {
      "text/plain": [
       "CustomerID            object\n",
       "Count                  int64\n",
       "Country               object\n",
       "State                 object\n",
       "City                  object\n",
       "Zip Code               int64\n",
       "Lat Long              object\n",
       "Latitude             float64\n",
       "Longitude            float64\n",
       "Gender                object\n",
       "Senior Citizen        object\n",
       "Partner               object\n",
       "Dependents            object\n",
       "Tenure Months          int64\n",
       "Phone Service         object\n",
       "Multiple Lines        object\n",
       "Internet Service      object\n",
       "Online Security       object\n",
       "Online Backup         object\n",
       "Device Protection     object\n",
       "Tech Support          object\n",
       "Streaming TV          object\n",
       "Streaming Movies      object\n",
       "Contract              object\n",
       "Paperless Billing     object\n",
       "Payment Method        object\n",
       "Monthly Charges      float64\n",
       "Total Charges         object\n",
       "Churn Label           object\n",
       "Churn Value            int64\n",
       "Churn Reason          object\n",
       "dtype: object"
      ]
     },
     "execution_count": 45,
     "metadata": {},
     "output_type": "execute_result"
    }
   ],
   "source": [
    "df.dtypes"
   ]
  },
  {
   "cell_type": "code",
   "execution_count": 46,
   "id": "9c8cbb28-8338-49df-bac5-118f12398316",
   "metadata": {},
   "outputs": [
    {
     "data": {
      "text/html": [
       "<div>\n",
       "<style scoped>\n",
       "    .dataframe tbody tr th:only-of-type {\n",
       "        vertical-align: middle;\n",
       "    }\n",
       "\n",
       "    .dataframe tbody tr th {\n",
       "        vertical-align: top;\n",
       "    }\n",
       "\n",
       "    .dataframe thead th {\n",
       "        text-align: right;\n",
       "    }\n",
       "</style>\n",
       "<table border=\"1\" class=\"dataframe\">\n",
       "  <thead>\n",
       "    <tr style=\"text-align: right;\">\n",
       "      <th></th>\n",
       "      <th>Count</th>\n",
       "      <th>Country</th>\n",
       "      <th>State</th>\n",
       "      <th>City</th>\n",
       "      <th>Zip Code</th>\n",
       "      <th>Lat Long</th>\n",
       "      <th>Latitude</th>\n",
       "      <th>Longitude</th>\n",
       "      <th>Gender</th>\n",
       "      <th>Senior Citizen</th>\n",
       "      <th>...</th>\n",
       "      <th>Streaming TV</th>\n",
       "      <th>Streaming Movies</th>\n",
       "      <th>Contract</th>\n",
       "      <th>Paperless Billing</th>\n",
       "      <th>Payment Method</th>\n",
       "      <th>Monthly Charges</th>\n",
       "      <th>Total Charges</th>\n",
       "      <th>Churn Label</th>\n",
       "      <th>Churn Value</th>\n",
       "      <th>Churn Reason</th>\n",
       "    </tr>\n",
       "    <tr>\n",
       "      <th>CustomerID</th>\n",
       "      <th></th>\n",
       "      <th></th>\n",
       "      <th></th>\n",
       "      <th></th>\n",
       "      <th></th>\n",
       "      <th></th>\n",
       "      <th></th>\n",
       "      <th></th>\n",
       "      <th></th>\n",
       "      <th></th>\n",
       "      <th></th>\n",
       "      <th></th>\n",
       "      <th></th>\n",
       "      <th></th>\n",
       "      <th></th>\n",
       "      <th></th>\n",
       "      <th></th>\n",
       "      <th></th>\n",
       "      <th></th>\n",
       "      <th></th>\n",
       "      <th></th>\n",
       "    </tr>\n",
       "  </thead>\n",
       "  <tbody>\n",
       "    <tr>\n",
       "      <th>3668-QPYBK</th>\n",
       "      <td>1</td>\n",
       "      <td>United States</td>\n",
       "      <td>California</td>\n",
       "      <td>Los Angeles</td>\n",
       "      <td>90003</td>\n",
       "      <td>33.964131, -118.272783</td>\n",
       "      <td>33.964131</td>\n",
       "      <td>-118.272783</td>\n",
       "      <td>Male</td>\n",
       "      <td>No</td>\n",
       "      <td>...</td>\n",
       "      <td>No</td>\n",
       "      <td>No</td>\n",
       "      <td>Month-to-month</td>\n",
       "      <td>Yes</td>\n",
       "      <td>Mailed check</td>\n",
       "      <td>53.85</td>\n",
       "      <td>108.15</td>\n",
       "      <td>Yes</td>\n",
       "      <td>1</td>\n",
       "      <td>Competitor made better offer</td>\n",
       "    </tr>\n",
       "    <tr>\n",
       "      <th>9237-HQITU</th>\n",
       "      <td>1</td>\n",
       "      <td>United States</td>\n",
       "      <td>California</td>\n",
       "      <td>Los Angeles</td>\n",
       "      <td>90005</td>\n",
       "      <td>34.059281, -118.30742</td>\n",
       "      <td>34.059281</td>\n",
       "      <td>-118.307420</td>\n",
       "      <td>Female</td>\n",
       "      <td>No</td>\n",
       "      <td>...</td>\n",
       "      <td>No</td>\n",
       "      <td>No</td>\n",
       "      <td>Month-to-month</td>\n",
       "      <td>Yes</td>\n",
       "      <td>Electronic check</td>\n",
       "      <td>70.70</td>\n",
       "      <td>151.65</td>\n",
       "      <td>Yes</td>\n",
       "      <td>1</td>\n",
       "      <td>Moved</td>\n",
       "    </tr>\n",
       "    <tr>\n",
       "      <th>9305-CDSKC</th>\n",
       "      <td>1</td>\n",
       "      <td>United States</td>\n",
       "      <td>California</td>\n",
       "      <td>Los Angeles</td>\n",
       "      <td>90006</td>\n",
       "      <td>34.048013, -118.293953</td>\n",
       "      <td>34.048013</td>\n",
       "      <td>-118.293953</td>\n",
       "      <td>Female</td>\n",
       "      <td>No</td>\n",
       "      <td>...</td>\n",
       "      <td>Yes</td>\n",
       "      <td>Yes</td>\n",
       "      <td>Month-to-month</td>\n",
       "      <td>Yes</td>\n",
       "      <td>Electronic check</td>\n",
       "      <td>99.65</td>\n",
       "      <td>820.5</td>\n",
       "      <td>Yes</td>\n",
       "      <td>1</td>\n",
       "      <td>Moved</td>\n",
       "    </tr>\n",
       "    <tr>\n",
       "      <th>7892-POOKP</th>\n",
       "      <td>1</td>\n",
       "      <td>United States</td>\n",
       "      <td>California</td>\n",
       "      <td>Los Angeles</td>\n",
       "      <td>90010</td>\n",
       "      <td>34.062125, -118.315709</td>\n",
       "      <td>34.062125</td>\n",
       "      <td>-118.315709</td>\n",
       "      <td>Female</td>\n",
       "      <td>No</td>\n",
       "      <td>...</td>\n",
       "      <td>Yes</td>\n",
       "      <td>Yes</td>\n",
       "      <td>Month-to-month</td>\n",
       "      <td>Yes</td>\n",
       "      <td>Electronic check</td>\n",
       "      <td>104.80</td>\n",
       "      <td>3046.05</td>\n",
       "      <td>Yes</td>\n",
       "      <td>1</td>\n",
       "      <td>Moved</td>\n",
       "    </tr>\n",
       "    <tr>\n",
       "      <th>0280-XJGEX</th>\n",
       "      <td>1</td>\n",
       "      <td>United States</td>\n",
       "      <td>California</td>\n",
       "      <td>Los Angeles</td>\n",
       "      <td>90015</td>\n",
       "      <td>34.039224, -118.266293</td>\n",
       "      <td>34.039224</td>\n",
       "      <td>-118.266293</td>\n",
       "      <td>Male</td>\n",
       "      <td>No</td>\n",
       "      <td>...</td>\n",
       "      <td>Yes</td>\n",
       "      <td>Yes</td>\n",
       "      <td>Month-to-month</td>\n",
       "      <td>Yes</td>\n",
       "      <td>Bank transfer (automatic)</td>\n",
       "      <td>103.70</td>\n",
       "      <td>5036.3</td>\n",
       "      <td>Yes</td>\n",
       "      <td>1</td>\n",
       "      <td>Competitor had better devices</td>\n",
       "    </tr>\n",
       "  </tbody>\n",
       "</table>\n",
       "<p>5 rows × 30 columns</p>\n",
       "</div>"
      ],
      "text/plain": [
       "            Count        Country       State         City  Zip Code  \\\n",
       "CustomerID                                                            \n",
       "3668-QPYBK      1  United States  California  Los Angeles     90003   \n",
       "9237-HQITU      1  United States  California  Los Angeles     90005   \n",
       "9305-CDSKC      1  United States  California  Los Angeles     90006   \n",
       "7892-POOKP      1  United States  California  Los Angeles     90010   \n",
       "0280-XJGEX      1  United States  California  Los Angeles     90015   \n",
       "\n",
       "                          Lat Long   Latitude   Longitude  Gender  \\\n",
       "CustomerID                                                          \n",
       "3668-QPYBK  33.964131, -118.272783  33.964131 -118.272783    Male   \n",
       "9237-HQITU   34.059281, -118.30742  34.059281 -118.307420  Female   \n",
       "9305-CDSKC  34.048013, -118.293953  34.048013 -118.293953  Female   \n",
       "7892-POOKP  34.062125, -118.315709  34.062125 -118.315709  Female   \n",
       "0280-XJGEX  34.039224, -118.266293  34.039224 -118.266293    Male   \n",
       "\n",
       "           Senior Citizen  ... Streaming TV Streaming Movies        Contract  \\\n",
       "CustomerID                 ...                                                 \n",
       "3668-QPYBK             No  ...           No               No  Month-to-month   \n",
       "9237-HQITU             No  ...           No               No  Month-to-month   \n",
       "9305-CDSKC             No  ...          Yes              Yes  Month-to-month   \n",
       "7892-POOKP             No  ...          Yes              Yes  Month-to-month   \n",
       "0280-XJGEX             No  ...          Yes              Yes  Month-to-month   \n",
       "\n",
       "           Paperless Billing             Payment Method Monthly Charges  \\\n",
       "CustomerID                                                                \n",
       "3668-QPYBK               Yes               Mailed check           53.85   \n",
       "9237-HQITU               Yes           Electronic check           70.70   \n",
       "9305-CDSKC               Yes           Electronic check           99.65   \n",
       "7892-POOKP               Yes           Electronic check          104.80   \n",
       "0280-XJGEX               Yes  Bank transfer (automatic)          103.70   \n",
       "\n",
       "           Total Charges Churn Label Churn Value  \\\n",
       "CustomerID                                         \n",
       "3668-QPYBK        108.15         Yes           1   \n",
       "9237-HQITU        151.65         Yes           1   \n",
       "9305-CDSKC         820.5         Yes           1   \n",
       "7892-POOKP       3046.05         Yes           1   \n",
       "0280-XJGEX        5036.3         Yes           1   \n",
       "\n",
       "                             Churn Reason  \n",
       "CustomerID                                 \n",
       "3668-QPYBK   Competitor made better offer  \n",
       "9237-HQITU                          Moved  \n",
       "9305-CDSKC                          Moved  \n",
       "7892-POOKP                          Moved  \n",
       "0280-XJGEX  Competitor had better devices  \n",
       "\n",
       "[5 rows x 30 columns]"
      ]
     },
     "execution_count": 46,
     "metadata": {},
     "output_type": "execute_result"
    }
   ],
   "source": [
    "# Set the ‘CustomerID’ column as the index of the DataFrame for easier data manipulation.\n",
    "df = df.set_index('CustomerID')\n",
    "df.head()"
   ]
  },
  {
   "cell_type": "markdown",
   "id": "43982b95-4d37-46d6-abb8-07b54e6171d0",
   "metadata": {},
   "source": [
    "## Preparing Data for Modeling\n",
    "\n",
    "### Train Test Splitting\n",
    "\n",
    "**Purpose:** Separate the target variable (‘Churn Value’) from the features and split the data into training and testing sets.## Train Test Splitting"
   ]
  },
  {
   "cell_type": "code",
   "execution_count": 48,
   "id": "355dfa43-6d02-428d-9f5a-f53d2a4ec11c",
   "metadata": {},
   "outputs": [],
   "source": [
    "y = df['Churn Value']  # Extract the target column\n",
    "X = df.drop(columns=['Churn Value'])  # Drop the target column from the DataFrame\n",
    "\n",
    "# Split the dataset into training and testing sets\n",
    "X_train, X_test, y_train, y_test = train_test_split(X, y, test_size=0.3, random_state=42)"
   ]
  },
  {
   "cell_type": "code",
   "execution_count": 49,
   "id": "b3f8c1ff-6de5-4b59-8d4c-f269dc25ce2d",
   "metadata": {},
   "outputs": [
    {
     "data": {
      "text/html": [
       "<div>\n",
       "<style scoped>\n",
       "    .dataframe tbody tr th:only-of-type {\n",
       "        vertical-align: middle;\n",
       "    }\n",
       "\n",
       "    .dataframe tbody tr th {\n",
       "        vertical-align: top;\n",
       "    }\n",
       "\n",
       "    .dataframe thead th {\n",
       "        text-align: right;\n",
       "    }\n",
       "</style>\n",
       "<table border=\"1\" class=\"dataframe\">\n",
       "  <thead>\n",
       "    <tr style=\"text-align: right;\">\n",
       "      <th></th>\n",
       "      <th>Count</th>\n",
       "      <th>Country</th>\n",
       "      <th>State</th>\n",
       "      <th>City</th>\n",
       "      <th>Zip Code</th>\n",
       "      <th>Lat Long</th>\n",
       "      <th>Latitude</th>\n",
       "      <th>Longitude</th>\n",
       "      <th>Gender</th>\n",
       "      <th>Senior Citizen</th>\n",
       "      <th>...</th>\n",
       "      <th>Tech Support</th>\n",
       "      <th>Streaming TV</th>\n",
       "      <th>Streaming Movies</th>\n",
       "      <th>Contract</th>\n",
       "      <th>Paperless Billing</th>\n",
       "      <th>Payment Method</th>\n",
       "      <th>Monthly Charges</th>\n",
       "      <th>Total Charges</th>\n",
       "      <th>Churn Label</th>\n",
       "      <th>Churn Reason</th>\n",
       "    </tr>\n",
       "    <tr>\n",
       "      <th>CustomerID</th>\n",
       "      <th></th>\n",
       "      <th></th>\n",
       "      <th></th>\n",
       "      <th></th>\n",
       "      <th></th>\n",
       "      <th></th>\n",
       "      <th></th>\n",
       "      <th></th>\n",
       "      <th></th>\n",
       "      <th></th>\n",
       "      <th></th>\n",
       "      <th></th>\n",
       "      <th></th>\n",
       "      <th></th>\n",
       "      <th></th>\n",
       "      <th></th>\n",
       "      <th></th>\n",
       "      <th></th>\n",
       "      <th></th>\n",
       "      <th></th>\n",
       "      <th></th>\n",
       "    </tr>\n",
       "  </thead>\n",
       "  <tbody>\n",
       "    <tr>\n",
       "      <th>9776-CLUJA</th>\n",
       "      <td>1</td>\n",
       "      <td>United States</td>\n",
       "      <td>California</td>\n",
       "      <td>Sacramento</td>\n",
       "      <td>95829</td>\n",
       "      <td>38.486502, -121.334051</td>\n",
       "      <td>38.486502</td>\n",
       "      <td>-121.334051</td>\n",
       "      <td>Female</td>\n",
       "      <td>Yes</td>\n",
       "      <td>...</td>\n",
       "      <td>No</td>\n",
       "      <td>No</td>\n",
       "      <td>No</td>\n",
       "      <td>Month-to-month</td>\n",
       "      <td>Yes</td>\n",
       "      <td>Electronic check</td>\n",
       "      <td>77.50</td>\n",
       "      <td>3807.35</td>\n",
       "      <td>Yes</td>\n",
       "      <td>Competitor offered more data</td>\n",
       "    </tr>\n",
       "    <tr>\n",
       "      <th>3285-UCQVC</th>\n",
       "      <td>1</td>\n",
       "      <td>United States</td>\n",
       "      <td>California</td>\n",
       "      <td>Seaside</td>\n",
       "      <td>93955</td>\n",
       "      <td>36.625114, -121.823565</td>\n",
       "      <td>36.625114</td>\n",
       "      <td>-121.823565</td>\n",
       "      <td>Female</td>\n",
       "      <td>No</td>\n",
       "      <td>...</td>\n",
       "      <td>Yes</td>\n",
       "      <td>No</td>\n",
       "      <td>No</td>\n",
       "      <td>Month-to-month</td>\n",
       "      <td>No</td>\n",
       "      <td>Credit card (automatic)</td>\n",
       "      <td>28.60</td>\n",
       "      <td>973.55</td>\n",
       "      <td>Yes</td>\n",
       "      <td>Don't know</td>\n",
       "    </tr>\n",
       "    <tr>\n",
       "      <th>2371-JUNGC</th>\n",
       "      <td>1</td>\n",
       "      <td>United States</td>\n",
       "      <td>California</td>\n",
       "      <td>Cupertino</td>\n",
       "      <td>95014</td>\n",
       "      <td>37.306612, -122.080621</td>\n",
       "      <td>37.306612</td>\n",
       "      <td>-122.080621</td>\n",
       "      <td>Male</td>\n",
       "      <td>No</td>\n",
       "      <td>...</td>\n",
       "      <td>No internet service</td>\n",
       "      <td>No internet service</td>\n",
       "      <td>No internet service</td>\n",
       "      <td>Month-to-month</td>\n",
       "      <td>No</td>\n",
       "      <td>Mailed check</td>\n",
       "      <td>20.25</td>\n",
       "      <td>208</td>\n",
       "      <td>No</td>\n",
       "      <td>NaN</td>\n",
       "    </tr>\n",
       "    <tr>\n",
       "      <th>1821-BUCWY</th>\n",
       "      <td>1</td>\n",
       "      <td>United States</td>\n",
       "      <td>California</td>\n",
       "      <td>Valyermo</td>\n",
       "      <td>93563</td>\n",
       "      <td>34.39583, -117.734568</td>\n",
       "      <td>34.395830</td>\n",
       "      <td>-117.734568</td>\n",
       "      <td>Male</td>\n",
       "      <td>No</td>\n",
       "      <td>...</td>\n",
       "      <td>No</td>\n",
       "      <td>No</td>\n",
       "      <td>No</td>\n",
       "      <td>Two year</td>\n",
       "      <td>Yes</td>\n",
       "      <td>Mailed check</td>\n",
       "      <td>55.65</td>\n",
       "      <td>1653.85</td>\n",
       "      <td>No</td>\n",
       "      <td>NaN</td>\n",
       "    </tr>\n",
       "    <tr>\n",
       "      <th>9337-SRRNI</th>\n",
       "      <td>1</td>\n",
       "      <td>United States</td>\n",
       "      <td>California</td>\n",
       "      <td>Rio Oso</td>\n",
       "      <td>95674</td>\n",
       "      <td>38.954144, -121.482536</td>\n",
       "      <td>38.954144</td>\n",
       "      <td>-121.482536</td>\n",
       "      <td>Male</td>\n",
       "      <td>No</td>\n",
       "      <td>...</td>\n",
       "      <td>No internet service</td>\n",
       "      <td>No internet service</td>\n",
       "      <td>No internet service</td>\n",
       "      <td>Two year</td>\n",
       "      <td>Yes</td>\n",
       "      <td>Credit card (automatic)</td>\n",
       "      <td>25.30</td>\n",
       "      <td>1673.8</td>\n",
       "      <td>No</td>\n",
       "      <td>NaN</td>\n",
       "    </tr>\n",
       "  </tbody>\n",
       "</table>\n",
       "<p>5 rows × 29 columns</p>\n",
       "</div>"
      ],
      "text/plain": [
       "            Count        Country       State        City  Zip Code  \\\n",
       "CustomerID                                                           \n",
       "9776-CLUJA      1  United States  California  Sacramento     95829   \n",
       "3285-UCQVC      1  United States  California     Seaside     93955   \n",
       "2371-JUNGC      1  United States  California   Cupertino     95014   \n",
       "1821-BUCWY      1  United States  California    Valyermo     93563   \n",
       "9337-SRRNI      1  United States  California     Rio Oso     95674   \n",
       "\n",
       "                          Lat Long   Latitude   Longitude  Gender  \\\n",
       "CustomerID                                                          \n",
       "9776-CLUJA  38.486502, -121.334051  38.486502 -121.334051  Female   \n",
       "3285-UCQVC  36.625114, -121.823565  36.625114 -121.823565  Female   \n",
       "2371-JUNGC  37.306612, -122.080621  37.306612 -122.080621    Male   \n",
       "1821-BUCWY   34.39583, -117.734568  34.395830 -117.734568    Male   \n",
       "9337-SRRNI  38.954144, -121.482536  38.954144 -121.482536    Male   \n",
       "\n",
       "           Senior Citizen  ...         Tech Support         Streaming TV  \\\n",
       "CustomerID                 ...                                             \n",
       "9776-CLUJA            Yes  ...                   No                   No   \n",
       "3285-UCQVC             No  ...                  Yes                   No   \n",
       "2371-JUNGC             No  ...  No internet service  No internet service   \n",
       "1821-BUCWY             No  ...                   No                   No   \n",
       "9337-SRRNI             No  ...  No internet service  No internet service   \n",
       "\n",
       "               Streaming Movies        Contract Paperless Billing  \\\n",
       "CustomerID                                                          \n",
       "9776-CLUJA                   No  Month-to-month               Yes   \n",
       "3285-UCQVC                   No  Month-to-month                No   \n",
       "2371-JUNGC  No internet service  Month-to-month                No   \n",
       "1821-BUCWY                   No        Two year               Yes   \n",
       "9337-SRRNI  No internet service        Two year               Yes   \n",
       "\n",
       "                     Payment Method Monthly Charges Total Charges Churn Label  \\\n",
       "CustomerID                                                                      \n",
       "9776-CLUJA         Electronic check           77.50       3807.35         Yes   \n",
       "3285-UCQVC  Credit card (automatic)           28.60        973.55         Yes   \n",
       "2371-JUNGC             Mailed check           20.25           208          No   \n",
       "1821-BUCWY             Mailed check           55.65       1653.85          No   \n",
       "9337-SRRNI  Credit card (automatic)           25.30        1673.8          No   \n",
       "\n",
       "                            Churn Reason  \n",
       "CustomerID                                \n",
       "9776-CLUJA  Competitor offered more data  \n",
       "3285-UCQVC                    Don't know  \n",
       "2371-JUNGC                           NaN  \n",
       "1821-BUCWY                           NaN  \n",
       "9337-SRRNI                           NaN  \n",
       "\n",
       "[5 rows x 29 columns]"
      ]
     },
     "execution_count": 49,
     "metadata": {},
     "output_type": "execute_result"
    }
   ],
   "source": [
    "X_train.head()"
   ]
  },
  {
   "cell_type": "code",
   "execution_count": 50,
   "id": "ba64184b-4a60-4ebf-b270-0611df877fc1",
   "metadata": {},
   "outputs": [
    {
     "data": {
      "text/plain": [
       "CustomerID\n",
       "3668-QPYBK    1\n",
       "9237-HQITU    1\n",
       "9305-CDSKC    1\n",
       "7892-POOKP    1\n",
       "0280-XJGEX    1\n",
       "Name: Churn Value, dtype: int64"
      ]
     },
     "execution_count": 50,
     "metadata": {},
     "output_type": "execute_result"
    }
   ],
   "source": [
    "y.head()"
   ]
  },
  {
   "cell_type": "code",
   "execution_count": null,
   "id": "263049ad-aaf6-4e33-a0b7-fa8e42696d4d",
   "metadata": {},
   "outputs": [],
   "source": []
  },
  {
   "cell_type": "code",
   "execution_count": 51,
   "id": "e8a1c477-113a-4fcc-b5b7-48b45278db6e",
   "metadata": {
    "tags": []
   },
   "outputs": [
    {
     "data": {
      "text/html": [
       "<style>#sk-container-id-2 {color: black;background-color: white;}#sk-container-id-2 pre{padding: 0;}#sk-container-id-2 div.sk-toggleable {background-color: white;}#sk-container-id-2 label.sk-toggleable__label {cursor: pointer;display: block;width: 100%;margin-bottom: 0;padding: 0.3em;box-sizing: border-box;text-align: center;}#sk-container-id-2 label.sk-toggleable__label-arrow:before {content: \"▸\";float: left;margin-right: 0.25em;color: #696969;}#sk-container-id-2 label.sk-toggleable__label-arrow:hover:before {color: black;}#sk-container-id-2 div.sk-estimator:hover label.sk-toggleable__label-arrow:before {color: black;}#sk-container-id-2 div.sk-toggleable__content {max-height: 0;max-width: 0;overflow: hidden;text-align: left;background-color: #f0f8ff;}#sk-container-id-2 div.sk-toggleable__content pre {margin: 0.2em;color: black;border-radius: 0.25em;background-color: #f0f8ff;}#sk-container-id-2 input.sk-toggleable__control:checked~div.sk-toggleable__content {max-height: 200px;max-width: 100%;overflow: auto;}#sk-container-id-2 input.sk-toggleable__control:checked~label.sk-toggleable__label-arrow:before {content: \"▾\";}#sk-container-id-2 div.sk-estimator input.sk-toggleable__control:checked~label.sk-toggleable__label {background-color: #d4ebff;}#sk-container-id-2 div.sk-label input.sk-toggleable__control:checked~label.sk-toggleable__label {background-color: #d4ebff;}#sk-container-id-2 input.sk-hidden--visually {border: 0;clip: rect(1px 1px 1px 1px);clip: rect(1px, 1px, 1px, 1px);height: 1px;margin: -1px;overflow: hidden;padding: 0;position: absolute;width: 1px;}#sk-container-id-2 div.sk-estimator {font-family: monospace;background-color: #f0f8ff;border: 1px dotted black;border-radius: 0.25em;box-sizing: border-box;margin-bottom: 0.5em;}#sk-container-id-2 div.sk-estimator:hover {background-color: #d4ebff;}#sk-container-id-2 div.sk-parallel-item::after {content: \"\";width: 100%;border-bottom: 1px solid gray;flex-grow: 1;}#sk-container-id-2 div.sk-label:hover label.sk-toggleable__label {background-color: #d4ebff;}#sk-container-id-2 div.sk-serial::before {content: \"\";position: absolute;border-left: 1px solid gray;box-sizing: border-box;top: 0;bottom: 0;left: 50%;z-index: 0;}#sk-container-id-2 div.sk-serial {display: flex;flex-direction: column;align-items: center;background-color: white;padding-right: 0.2em;padding-left: 0.2em;position: relative;}#sk-container-id-2 div.sk-item {position: relative;z-index: 1;}#sk-container-id-2 div.sk-parallel {display: flex;align-items: stretch;justify-content: center;background-color: white;position: relative;}#sk-container-id-2 div.sk-item::before, #sk-container-id-2 div.sk-parallel-item::before {content: \"\";position: absolute;border-left: 1px solid gray;box-sizing: border-box;top: 0;bottom: 0;left: 50%;z-index: -1;}#sk-container-id-2 div.sk-parallel-item {display: flex;flex-direction: column;z-index: 1;position: relative;background-color: white;}#sk-container-id-2 div.sk-parallel-item:first-child::after {align-self: flex-end;width: 50%;}#sk-container-id-2 div.sk-parallel-item:last-child::after {align-self: flex-start;width: 50%;}#sk-container-id-2 div.sk-parallel-item:only-child::after {width: 0;}#sk-container-id-2 div.sk-dashed-wrapped {border: 1px dashed gray;margin: 0 0.4em 0.5em 0.4em;box-sizing: border-box;padding-bottom: 0.4em;background-color: white;}#sk-container-id-2 div.sk-label label {font-family: monospace;font-weight: bold;display: inline-block;line-height: 1.2em;}#sk-container-id-2 div.sk-label-container {text-align: center;}#sk-container-id-2 div.sk-container {/* jupyter's `normalize.less` sets `[hidden] { display: none; }` but bootstrap.min.css set `[hidden] { display: none !important; }` so we also need the `!important` here to be able to override the default hidden behavior on the sphinx rendered scikit-learn.org. See: https://github.com/scikit-learn/scikit-learn/issues/21755 */display: inline-block !important;position: relative;}#sk-container-id-2 div.sk-text-repr-fallback {display: none;}</style><div id=\"sk-container-id-2\" class=\"sk-top-container\"><div class=\"sk-text-repr-fallback\"><pre>OrdinalEncoder(handle_unknown=&#x27;use_encoded_value&#x27;, unknown_value=-1)</pre><b>In a Jupyter environment, please rerun this cell to show the HTML representation or trust the notebook. <br />On GitHub, the HTML representation is unable to render, please try loading this page with nbviewer.org.</b></div><div class=\"sk-container\" hidden><div class=\"sk-item\"><div class=\"sk-estimator sk-toggleable\"><input class=\"sk-toggleable__control sk-hidden--visually\" id=\"sk-estimator-id-2\" type=\"checkbox\" checked><label for=\"sk-estimator-id-2\" class=\"sk-toggleable__label sk-toggleable__label-arrow\">OrdinalEncoder</label><div class=\"sk-toggleable__content\"><pre>OrdinalEncoder(handle_unknown=&#x27;use_encoded_value&#x27;, unknown_value=-1)</pre></div></div></div></div></div>"
      ],
      "text/plain": [
       "OrdinalEncoder(handle_unknown='use_encoded_value', unknown_value=-1)"
      ]
     },
     "execution_count": 51,
     "metadata": {},
     "output_type": "execute_result"
    }
   ],
   "source": [
    "from sklearn.preprocessing import OrdinalEncoder\n",
    "\n",
    "# Create encoder\n",
    "oe = OrdinalEncoder(handle_unknown='use_encoded_value',\n",
    "                                 unknown_value=-1)\n",
    "\n",
    "# Fit on training data\n",
    "oe.fit(df[['City']])\n",
    "\n"
   ]
  },
  {
   "cell_type": "code",
   "execution_count": 52,
   "id": "feb6dd76-c3f5-41a1-9755-c9fbd4552c00",
   "metadata": {
    "tags": []
   },
   "outputs": [],
   "source": [
    "# from sklearn.preprocessing import LabelEncoder\n",
    "# def train_encode(df):\n",
    "#     le = LabelEncoder()\n",
    "#     le.fit(df['City'])\n",
    "#     return le\n",
    "# le = train_encode(X_train)"
   ]
  },
  {
   "cell_type": "code",
   "execution_count": 53,
   "id": "2c137ffe-1775-4408-9ed2-6735a9f29c48",
   "metadata": {
    "tags": []
   },
   "outputs": [],
   "source": [
    "def cleaning_fct(df):\n",
    "    df['Gender'] = df['Gender'].map({'Female':0, 'Male':1})\n",
    "    df['Senior Citizen'] = df['Senior Citizen'].map({'No':0, 'Yes':1})\n",
    "    df['Partner'] = df['Partner'].map({'No':0, 'Yes':1})\n",
    "    df['Dependents'] = df['Dependents'].map({'No':0, 'Yes':1})\n",
    "    df['Phone Service'] = df['Phone Service'].map({'No':0, 'Yes':1})\n",
    "    df['Multiple Lines'] = df['Multiple Lines'].map({'No':0, 'Yes':1, 'No phone service':2})\n",
    "    df['Internet Service'] = df['Internet Service'].map({'DSL':0, 'Fiber optic':1, 'No':2})\n",
    "    df['Online Security'] = df['Online Security'].map({'No':0, 'Yes':1, 'No internet service':2})\n",
    "    df['Online Backup'] = df['Online Backup'].map({'No':0, 'Yes':1, 'No internet service':2})\n",
    "    df['Device Protection'] = df['Device Protection'].map({'No':0, 'Yes':1, 'No internet service':2})\n",
    "    df['Tech Support'] = df['Tech Support'].map({'No':0, 'Yes':1, 'No internet service':2})\n",
    "    df['Streaming TV'] = df['Streaming TV'].map({'No':0, 'Yes':1, 'No internet service':2})\n",
    "    df['Streaming Movies'] = df['Streaming Movies'].map({'No':0, 'Yes':1, 'No internet service':2})\n",
    "    df['Contract'] = df['Contract'].map({'Month-to-month':0, 'Two year':1, 'One year':2})\n",
    "    df['Paperless Billing'] = df['Paperless Billing'].map({'No':0, 'Yes':1})\n",
    "    df['Payment Method'] = df['Payment Method'].map({'Mailed check':0, 'Electronic check':1, 'Bank transfer (automatic)':2, 'Credit card (automatic)':3})\n",
    "\n",
    "    # df['City Number'] = le.transform(df['City'])\n",
    "    df['City Number'] = oe.transform(df[['City']])\n",
    "\n",
    "    cols = ['City Number', 'Zip Code',\n",
    "       'Lat Long', 'Latitude', 'Longitude', 'Gender', 'Senior Citizen',\n",
    "       'Partner', 'Dependents', 'Tenure Months', 'Phone Service',\n",
    "       'Multiple Lines', 'Internet Service', 'Online Security',\n",
    "       'Online Backup', 'Device Protection', 'Tech Support', 'Streaming TV',\n",
    "       'Streaming Movies', 'Contract', 'Paperless Billing', 'Payment Method',\n",
    "       'Monthly Charges', 'Total Charges']\n",
    "    df = df[cols]\n",
    "\n",
    "    return df"
   ]
  },
  {
   "cell_type": "code",
   "execution_count": 54,
   "id": "128c710d-734a-41b5-af56-ee30ab452cb3",
   "metadata": {
    "tags": []
   },
   "outputs": [],
   "source": [
    "X_train_cl=cleaning_fct(X_train)"
   ]
  },
  {
   "cell_type": "code",
   "execution_count": 55,
   "id": "d77f7882-4228-4836-a23b-4dd77dc0479d",
   "metadata": {
    "tags": []
   },
   "outputs": [
    {
     "data": {
      "text/html": [
       "<div>\n",
       "<style scoped>\n",
       "    .dataframe tbody tr th:only-of-type {\n",
       "        vertical-align: middle;\n",
       "    }\n",
       "\n",
       "    .dataframe tbody tr th {\n",
       "        vertical-align: top;\n",
       "    }\n",
       "\n",
       "    .dataframe thead th {\n",
       "        text-align: right;\n",
       "    }\n",
       "</style>\n",
       "<table border=\"1\" class=\"dataframe\">\n",
       "  <thead>\n",
       "    <tr style=\"text-align: right;\">\n",
       "      <th></th>\n",
       "      <th>City Number</th>\n",
       "      <th>Zip Code</th>\n",
       "      <th>Lat Long</th>\n",
       "      <th>Latitude</th>\n",
       "      <th>Longitude</th>\n",
       "      <th>Gender</th>\n",
       "      <th>Senior Citizen</th>\n",
       "      <th>Partner</th>\n",
       "      <th>Dependents</th>\n",
       "      <th>Tenure Months</th>\n",
       "      <th>...</th>\n",
       "      <th>Online Backup</th>\n",
       "      <th>Device Protection</th>\n",
       "      <th>Tech Support</th>\n",
       "      <th>Streaming TV</th>\n",
       "      <th>Streaming Movies</th>\n",
       "      <th>Contract</th>\n",
       "      <th>Paperless Billing</th>\n",
       "      <th>Payment Method</th>\n",
       "      <th>Monthly Charges</th>\n",
       "      <th>Total Charges</th>\n",
       "    </tr>\n",
       "    <tr>\n",
       "      <th>CustomerID</th>\n",
       "      <th></th>\n",
       "      <th></th>\n",
       "      <th></th>\n",
       "      <th></th>\n",
       "      <th></th>\n",
       "      <th></th>\n",
       "      <th></th>\n",
       "      <th></th>\n",
       "      <th></th>\n",
       "      <th></th>\n",
       "      <th></th>\n",
       "      <th></th>\n",
       "      <th></th>\n",
       "      <th></th>\n",
       "      <th></th>\n",
       "      <th></th>\n",
       "      <th></th>\n",
       "      <th></th>\n",
       "      <th></th>\n",
       "      <th></th>\n",
       "      <th></th>\n",
       "    </tr>\n",
       "  </thead>\n",
       "  <tbody>\n",
       "    <tr>\n",
       "      <th>9776-CLUJA</th>\n",
       "      <td>855.0</td>\n",
       "      <td>95829</td>\n",
       "      <td>38.486502, -121.334051</td>\n",
       "      <td>38.486502</td>\n",
       "      <td>-121.334051</td>\n",
       "      <td>0</td>\n",
       "      <td>1</td>\n",
       "      <td>1</td>\n",
       "      <td>0</td>\n",
       "      <td>51</td>\n",
       "      <td>...</td>\n",
       "      <td>0</td>\n",
       "      <td>0</td>\n",
       "      <td>0</td>\n",
       "      <td>0</td>\n",
       "      <td>0</td>\n",
       "      <td>0</td>\n",
       "      <td>1</td>\n",
       "      <td>1</td>\n",
       "      <td>77.50</td>\n",
       "      <td>3807.35</td>\n",
       "    </tr>\n",
       "    <tr>\n",
       "      <th>3285-UCQVC</th>\n",
       "      <td>918.0</td>\n",
       "      <td>93955</td>\n",
       "      <td>36.625114, -121.823565</td>\n",
       "      <td>36.625114</td>\n",
       "      <td>-121.823565</td>\n",
       "      <td>0</td>\n",
       "      <td>0</td>\n",
       "      <td>0</td>\n",
       "      <td>0</td>\n",
       "      <td>37</td>\n",
       "      <td>...</td>\n",
       "      <td>0</td>\n",
       "      <td>0</td>\n",
       "      <td>1</td>\n",
       "      <td>0</td>\n",
       "      <td>0</td>\n",
       "      <td>0</td>\n",
       "      <td>0</td>\n",
       "      <td>3</td>\n",
       "      <td>28.60</td>\n",
       "      <td>973.55</td>\n",
       "    </tr>\n",
       "    <tr>\n",
       "      <th>2371-JUNGC</th>\n",
       "      <td>238.0</td>\n",
       "      <td>95014</td>\n",
       "      <td>37.306612, -122.080621</td>\n",
       "      <td>37.306612</td>\n",
       "      <td>-122.080621</td>\n",
       "      <td>1</td>\n",
       "      <td>0</td>\n",
       "      <td>0</td>\n",
       "      <td>0</td>\n",
       "      <td>11</td>\n",
       "      <td>...</td>\n",
       "      <td>2</td>\n",
       "      <td>2</td>\n",
       "      <td>2</td>\n",
       "      <td>2</td>\n",
       "      <td>2</td>\n",
       "      <td>0</td>\n",
       "      <td>0</td>\n",
       "      <td>0</td>\n",
       "      <td>20.25</td>\n",
       "      <td>208</td>\n",
       "    </tr>\n",
       "    <tr>\n",
       "      <th>1821-BUCWY</th>\n",
       "      <td>1052.0</td>\n",
       "      <td>93563</td>\n",
       "      <td>34.39583, -117.734568</td>\n",
       "      <td>34.395830</td>\n",
       "      <td>-117.734568</td>\n",
       "      <td>1</td>\n",
       "      <td>0</td>\n",
       "      <td>0</td>\n",
       "      <td>0</td>\n",
       "      <td>30</td>\n",
       "      <td>...</td>\n",
       "      <td>0</td>\n",
       "      <td>1</td>\n",
       "      <td>0</td>\n",
       "      <td>0</td>\n",
       "      <td>0</td>\n",
       "      <td>1</td>\n",
       "      <td>1</td>\n",
       "      <td>0</td>\n",
       "      <td>55.65</td>\n",
       "      <td>1653.85</td>\n",
       "    </tr>\n",
       "    <tr>\n",
       "      <th>9337-SRRNI</th>\n",
       "      <td>838.0</td>\n",
       "      <td>95674</td>\n",
       "      <td>38.954144, -121.482536</td>\n",
       "      <td>38.954144</td>\n",
       "      <td>-121.482536</td>\n",
       "      <td>1</td>\n",
       "      <td>0</td>\n",
       "      <td>0</td>\n",
       "      <td>1</td>\n",
       "      <td>66</td>\n",
       "      <td>...</td>\n",
       "      <td>2</td>\n",
       "      <td>2</td>\n",
       "      <td>2</td>\n",
       "      <td>2</td>\n",
       "      <td>2</td>\n",
       "      <td>1</td>\n",
       "      <td>1</td>\n",
       "      <td>3</td>\n",
       "      <td>25.30</td>\n",
       "      <td>1673.8</td>\n",
       "    </tr>\n",
       "  </tbody>\n",
       "</table>\n",
       "<p>5 rows × 24 columns</p>\n",
       "</div>"
      ],
      "text/plain": [
       "            City Number  Zip Code                Lat Long   Latitude  \\\n",
       "CustomerID                                                             \n",
       "9776-CLUJA        855.0     95829  38.486502, -121.334051  38.486502   \n",
       "3285-UCQVC        918.0     93955  36.625114, -121.823565  36.625114   \n",
       "2371-JUNGC        238.0     95014  37.306612, -122.080621  37.306612   \n",
       "1821-BUCWY       1052.0     93563   34.39583, -117.734568  34.395830   \n",
       "9337-SRRNI        838.0     95674  38.954144, -121.482536  38.954144   \n",
       "\n",
       "             Longitude  Gender  Senior Citizen  Partner  Dependents  \\\n",
       "CustomerID                                                            \n",
       "9776-CLUJA -121.334051       0               1        1           0   \n",
       "3285-UCQVC -121.823565       0               0        0           0   \n",
       "2371-JUNGC -122.080621       1               0        0           0   \n",
       "1821-BUCWY -117.734568       1               0        0           0   \n",
       "9337-SRRNI -121.482536       1               0        0           1   \n",
       "\n",
       "            Tenure Months  ...  Online Backup  Device Protection  \\\n",
       "CustomerID                 ...                                     \n",
       "9776-CLUJA             51  ...              0                  0   \n",
       "3285-UCQVC             37  ...              0                  0   \n",
       "2371-JUNGC             11  ...              2                  2   \n",
       "1821-BUCWY             30  ...              0                  1   \n",
       "9337-SRRNI             66  ...              2                  2   \n",
       "\n",
       "            Tech Support  Streaming TV  Streaming Movies  Contract  \\\n",
       "CustomerID                                                           \n",
       "9776-CLUJA             0             0                 0         0   \n",
       "3285-UCQVC             1             0                 0         0   \n",
       "2371-JUNGC             2             2                 2         0   \n",
       "1821-BUCWY             0             0                 0         1   \n",
       "9337-SRRNI             2             2                 2         1   \n",
       "\n",
       "            Paperless Billing  Payment Method  Monthly Charges  Total Charges  \n",
       "CustomerID                                                                     \n",
       "9776-CLUJA                  1               1            77.50        3807.35  \n",
       "3285-UCQVC                  0               3            28.60         973.55  \n",
       "2371-JUNGC                  0               0            20.25            208  \n",
       "1821-BUCWY                  1               0            55.65        1653.85  \n",
       "9337-SRRNI                  1               3            25.30         1673.8  \n",
       "\n",
       "[5 rows x 24 columns]"
      ]
     },
     "execution_count": 55,
     "metadata": {},
     "output_type": "execute_result"
    }
   ],
   "source": [
    "X_train_cl.head()"
   ]
  },
  {
   "cell_type": "code",
   "execution_count": 56,
   "id": "2175e877-8bcf-41e8-8bf8-8aca2611b9c1",
   "metadata": {
    "tags": []
   },
   "outputs": [
    {
     "data": {
      "text/plain": [
       "Zip Code    1639\n",
       "dtype: int64"
      ]
     },
     "execution_count": 56,
     "metadata": {},
     "output_type": "execute_result"
    }
   ],
   "source": [
    "X_train_cl[['Zip Code']].nunique()"
   ]
  },
  {
   "cell_type": "code",
   "execution_count": 57,
   "id": "ec2d2516-9741-4729-8918-3108eddaf8fe",
   "metadata": {
    "tags": []
   },
   "outputs": [
    {
     "data": {
      "text/plain": [
       "0"
      ]
     },
     "execution_count": 57,
     "metadata": {},
     "output_type": "execute_result"
    }
   ],
   "source": [
    "X_train_cl['Monthly Charges'].isnull().sum()"
   ]
  },
  {
   "cell_type": "code",
   "execution_count": 58,
   "id": "9d98edbf-d5af-4cf8-a9f0-0a72b24b6cbd",
   "metadata": {
    "tags": []
   },
   "outputs": [
    {
     "name": "stdout",
     "output_type": "stream",
     "text": [
      "['108.15' '151.65' '820.5' ... '7362.9' '346.45' '6844.5']\n"
     ]
    }
   ],
   "source": [
    "print(df['Total Charges'].unique())"
   ]
  },
  {
   "cell_type": "code",
   "execution_count": 59,
   "id": "e2a830ae-2d16-461d-b955-0940f7d5845b",
   "metadata": {
    "tags": []
   },
   "outputs": [
    {
     "data": {
      "text/plain": [
       "Index(['City Number', 'Zip Code', 'Lat Long', 'Latitude', 'Longitude',\n",
       "       'Gender', 'Senior Citizen', 'Partner', 'Dependents', 'Tenure Months',\n",
       "       'Phone Service', 'Multiple Lines', 'Internet Service',\n",
       "       'Online Security', 'Online Backup', 'Device Protection', 'Tech Support',\n",
       "       'Streaming TV', 'Streaming Movies', 'Contract', 'Paperless Billing',\n",
       "       'Payment Method', 'Monthly Charges', 'Total Charges'],\n",
       "      dtype='object')"
      ]
     },
     "execution_count": 59,
     "metadata": {},
     "output_type": "execute_result"
    }
   ],
   "source": [
    "X_train_cl.columns # Columns in X_train"
   ]
  },
  {
   "cell_type": "markdown",
   "id": "ba0e2bf5-05da-4eb0-8763-3f55d80693b3",
   "metadata": {},
   "source": [
    "## Feature engineering "
   ]
  },
  {
   "cell_type": "code",
   "execution_count": 61,
   "id": "2201ee86-504a-444a-95c3-6bc92b06ad0d",
   "metadata": {
    "tags": []
   },
   "outputs": [],
   "source": [
    "def feature_eng(df):\n",
    "    \n",
    "    # Create a copy of the data\n",
    "    df = df.copy()\n",
    "    \n",
    "    # Drop longitude and latitude and Zip Code columns \n",
    "    df = df.drop(columns=['Longitude', 'Latitude', 'Lat Long', 'Zip Code'])\n",
    "    \n",
    "    # Convert the 'Total Charges' column to float\n",
    "    df['Total Charges'] = pd.to_numeric(df['Total Charges'], errors='coerce')\n",
    "    \n",
    "    # Fill null values in Total Charges to 0\n",
    "    df['Total Charges'].fillna(0, inplace=True)\n",
    "    \n",
    "    # Add aditional charges column \n",
    "    df['Additional charges'] = df['Total Charges'] - (df['Monthly Charges'] * df['Tenure Months'])\n",
    "    \n",
    "    return df"
   ]
  },
  {
   "cell_type": "code",
   "execution_count": 62,
   "id": "0d4b5c66-3287-4097-b8e6-a3333cf211ff",
   "metadata": {
    "tags": []
   },
   "outputs": [],
   "source": [
    "X_train_fe = feature_eng(X_train_cl)"
   ]
  },
  {
   "cell_type": "code",
   "execution_count": 63,
   "id": "a3bb5026-15d1-4d16-8405-f519b6ef6dae",
   "metadata": {
    "tags": []
   },
   "outputs": [
    {
     "data": {
      "text/plain": [
       "Index([], dtype='object', name='CustomerID')"
      ]
     },
     "execution_count": 63,
     "metadata": {},
     "output_type": "execute_result"
    }
   ],
   "source": [
    "null_indices = X_train_fe[X_train_fe['Total Charges'].isnull()].index\n",
    "null_indices"
   ]
  },
  {
   "cell_type": "code",
   "execution_count": 64,
   "id": "d7570f13-eb7a-4565-a206-7b21c06d437b",
   "metadata": {
    "tags": []
   },
   "outputs": [
    {
     "data": {
      "text/plain": [
       "City Number           float64\n",
       "Gender                  int64\n",
       "Senior Citizen          int64\n",
       "Partner                 int64\n",
       "Dependents              int64\n",
       "Tenure Months           int64\n",
       "Phone Service           int64\n",
       "Multiple Lines          int64\n",
       "Internet Service        int64\n",
       "Online Security         int64\n",
       "Online Backup           int64\n",
       "Device Protection       int64\n",
       "Tech Support            int64\n",
       "Streaming TV            int64\n",
       "Streaming Movies        int64\n",
       "Contract                int64\n",
       "Paperless Billing       int64\n",
       "Payment Method          int64\n",
       "Monthly Charges       float64\n",
       "Total Charges         float64\n",
       "Additional charges    float64\n",
       "dtype: object"
      ]
     },
     "execution_count": 64,
     "metadata": {},
     "output_type": "execute_result"
    }
   ],
   "source": [
    "X_train_fe = feature_eng(X_train_cl)\n",
    "X_train_fe.dtypes"
   ]
  },
  {
   "cell_type": "markdown",
   "id": "c2f0c43e-01b8-40d1-8e06-cf9d35085134",
   "metadata": {},
   "source": [
    "## Random Forest Model "
   ]
  },
  {
   "cell_type": "markdown",
   "id": "c43cd6d8-5428-4ad1-bff5-4b8a76dc297e",
   "metadata": {},
   "source": [
    "### Developing the best model on the train"
   ]
  },
  {
   "cell_type": "code",
   "execution_count": 94,
   "id": "de8a06a0-9c7d-4f6c-87f8-ed1e6957d84d",
   "metadata": {
    "tags": []
   },
   "outputs": [
    {
     "name": "stdout",
     "output_type": "stream",
     "text": [
      "Fitting 5 folds for each of 9 candidates, totalling 45 fits\n",
      "0.7983772819472617\n"
     ]
    },
    {
     "data": {
      "text/html": [
       "<style>#sk-container-id-3 {color: black;background-color: white;}#sk-container-id-3 pre{padding: 0;}#sk-container-id-3 div.sk-toggleable {background-color: white;}#sk-container-id-3 label.sk-toggleable__label {cursor: pointer;display: block;width: 100%;margin-bottom: 0;padding: 0.3em;box-sizing: border-box;text-align: center;}#sk-container-id-3 label.sk-toggleable__label-arrow:before {content: \"▸\";float: left;margin-right: 0.25em;color: #696969;}#sk-container-id-3 label.sk-toggleable__label-arrow:hover:before {color: black;}#sk-container-id-3 div.sk-estimator:hover label.sk-toggleable__label-arrow:before {color: black;}#sk-container-id-3 div.sk-toggleable__content {max-height: 0;max-width: 0;overflow: hidden;text-align: left;background-color: #f0f8ff;}#sk-container-id-3 div.sk-toggleable__content pre {margin: 0.2em;color: black;border-radius: 0.25em;background-color: #f0f8ff;}#sk-container-id-3 input.sk-toggleable__control:checked~div.sk-toggleable__content {max-height: 200px;max-width: 100%;overflow: auto;}#sk-container-id-3 input.sk-toggleable__control:checked~label.sk-toggleable__label-arrow:before {content: \"▾\";}#sk-container-id-3 div.sk-estimator input.sk-toggleable__control:checked~label.sk-toggleable__label {background-color: #d4ebff;}#sk-container-id-3 div.sk-label input.sk-toggleable__control:checked~label.sk-toggleable__label {background-color: #d4ebff;}#sk-container-id-3 input.sk-hidden--visually {border: 0;clip: rect(1px 1px 1px 1px);clip: rect(1px, 1px, 1px, 1px);height: 1px;margin: -1px;overflow: hidden;padding: 0;position: absolute;width: 1px;}#sk-container-id-3 div.sk-estimator {font-family: monospace;background-color: #f0f8ff;border: 1px dotted black;border-radius: 0.25em;box-sizing: border-box;margin-bottom: 0.5em;}#sk-container-id-3 div.sk-estimator:hover {background-color: #d4ebff;}#sk-container-id-3 div.sk-parallel-item::after {content: \"\";width: 100%;border-bottom: 1px solid gray;flex-grow: 1;}#sk-container-id-3 div.sk-label:hover label.sk-toggleable__label {background-color: #d4ebff;}#sk-container-id-3 div.sk-serial::before {content: \"\";position: absolute;border-left: 1px solid gray;box-sizing: border-box;top: 0;bottom: 0;left: 50%;z-index: 0;}#sk-container-id-3 div.sk-serial {display: flex;flex-direction: column;align-items: center;background-color: white;padding-right: 0.2em;padding-left: 0.2em;position: relative;}#sk-container-id-3 div.sk-item {position: relative;z-index: 1;}#sk-container-id-3 div.sk-parallel {display: flex;align-items: stretch;justify-content: center;background-color: white;position: relative;}#sk-container-id-3 div.sk-item::before, #sk-container-id-3 div.sk-parallel-item::before {content: \"\";position: absolute;border-left: 1px solid gray;box-sizing: border-box;top: 0;bottom: 0;left: 50%;z-index: -1;}#sk-container-id-3 div.sk-parallel-item {display: flex;flex-direction: column;z-index: 1;position: relative;background-color: white;}#sk-container-id-3 div.sk-parallel-item:first-child::after {align-self: flex-end;width: 50%;}#sk-container-id-3 div.sk-parallel-item:last-child::after {align-self: flex-start;width: 50%;}#sk-container-id-3 div.sk-parallel-item:only-child::after {width: 0;}#sk-container-id-3 div.sk-dashed-wrapped {border: 1px dashed gray;margin: 0 0.4em 0.5em 0.4em;box-sizing: border-box;padding-bottom: 0.4em;background-color: white;}#sk-container-id-3 div.sk-label label {font-family: monospace;font-weight: bold;display: inline-block;line-height: 1.2em;}#sk-container-id-3 div.sk-label-container {text-align: center;}#sk-container-id-3 div.sk-container {/* jupyter's `normalize.less` sets `[hidden] { display: none; }` but bootstrap.min.css set `[hidden] { display: none !important; }` so we also need the `!important` here to be able to override the default hidden behavior on the sphinx rendered scikit-learn.org. See: https://github.com/scikit-learn/scikit-learn/issues/21755 */display: inline-block !important;position: relative;}#sk-container-id-3 div.sk-text-repr-fallback {display: none;}</style><div id=\"sk-container-id-3\" class=\"sk-top-container\"><div class=\"sk-text-repr-fallback\"><pre>RandomForestClassifier(max_depth=5, n_estimators=20)</pre><b>In a Jupyter environment, please rerun this cell to show the HTML representation or trust the notebook. <br />On GitHub, the HTML representation is unable to render, please try loading this page with nbviewer.org.</b></div><div class=\"sk-container\" hidden><div class=\"sk-item\"><div class=\"sk-estimator sk-toggleable\"><input class=\"sk-toggleable__control sk-hidden--visually\" id=\"sk-estimator-id-3\" type=\"checkbox\" checked><label for=\"sk-estimator-id-3\" class=\"sk-toggleable__label sk-toggleable__label-arrow\">RandomForestClassifier</label><div class=\"sk-toggleable__content\"><pre>RandomForestClassifier(max_depth=5, n_estimators=20)</pre></div></div></div></div></div>"
      ],
      "text/plain": [
       "RandomForestClassifier(max_depth=5, n_estimators=20)"
      ]
     },
     "execution_count": 94,
     "metadata": {},
     "output_type": "execute_result"
    }
   ],
   "source": [
    "rf = RF() # Random Forests\n",
    "\n",
    "#Step 1: Select parameters\n",
    "rf_params = {\n",
    "    'n_estimators': [10,20,50], \n",
    "    'max_depth': [3, 4, 5]\n",
    "}\n",
    "\n",
    "# Create a grid search object\n",
    "gs = GridSearchCV(rf, param_grid=rf_params, cv=5, verbose = 1) \n",
    "\n",
    "# Fit grid search on the training set\n",
    "gs.fit(X_train_fe, y_train)\n",
    "\n",
    "# Save my best model as a random forest model\n",
    "best_rf = gs.best_estimator_\n",
    "# print score given by best estimator\n",
    "print(gs.best_score_)\n",
    "gs.best_estimator_"
   ]
  },
  {
   "cell_type": "code",
   "execution_count": 96,
   "id": "390f9b07-7aea-4144-900d-4cce927633f4",
   "metadata": {
    "tags": []
   },
   "outputs": [
    {
     "name": "stdout",
     "output_type": "stream",
     "text": [
      "[('City Number', 0.012), ('Gender', 0.001), ('Senior Citizen', 0.006), ('Partner', 0.004), ('Dependents', 0.051), ('Tenure Months', 0.182), ('Phone Service', 0.0), ('Multiple Lines', 0.001), ('Internet Service', 0.059), ('Online Security', 0.176), ('Online Backup', 0.038), ('Device Protection', 0.016), ('Tech Support', 0.088), ('Streaming TV', 0.015), ('Streaming Movies', 0.015), ('Contract', 0.198), ('Paperless Billing', 0.009), ('Payment Method', 0.017), ('Monthly Charges', 0.046), ('Total Charges', 0.053), ('Additional charges', 0.011)]\n"
     ]
    }
   ],
   "source": [
    "print(list(zip(X_train_fe.columns, np.round(best_rf.feature_importances_,3))))"
   ]
  },
  {
   "cell_type": "code",
   "execution_count": null,
   "id": "f9f63565-7717-481c-9958-f26419b21405",
   "metadata": {
    "tags": []
   },
   "outputs": [],
   "source": [
    "train_results = X_train_fe.copy()\n",
    "train_results['y_pred'] = best_rf.predict(X_train_fe)\n",
    "train_results['y_real'] = y_train\n",
    "train_results['y_prob'] = best_rf.predict_proba(X_train_fe)[:,1]"
   ]
  },
  {
   "cell_type": "code",
   "execution_count": null,
   "id": "56402495-f146-45fa-9e93-0d01590b275d",
   "metadata": {
    "tags": []
   },
   "outputs": [],
   "source": [
    "train_results.head(20)"
   ]
  },
  {
   "cell_type": "markdown",
   "id": "b09564dd-993c-41ff-b64b-e80d730ddaa0",
   "metadata": {},
   "source": [
    "### Using the model on the test set to evaluate"
   ]
  },
  {
   "cell_type": "code",
   "execution_count": null,
   "id": "547f0497-8774-4b6e-b24a-1ed854d808e9",
   "metadata": {
    "tags": []
   },
   "outputs": [],
   "source": [
    "X_test_cl=cleaning_fct(X_test)\n",
    "X_test_fe=feature_eng(X_test_cl)"
   ]
  },
  {
   "cell_type": "code",
   "execution_count": null,
   "id": "81ff2c32-81c4-43e2-963d-5b1ab0cdfef6",
   "metadata": {
    "tags": []
   },
   "outputs": [],
   "source": [
    "X_test_fe.head()"
   ]
  },
  {
   "cell_type": "code",
   "execution_count": null,
   "id": "b3e87717-1e1f-45ab-9204-6f5e36351e17",
   "metadata": {
    "tags": []
   },
   "outputs": [],
   "source": [
    "print(f'The training accuracy is :{best_rf.score(X_train_fe, y_train)}')\n",
    "print(f'The testing accuracy is :{best_rf.score(X_test_fe, y_test)}')"
   ]
  },
  {
   "cell_type": "code",
   "execution_count": null,
   "id": "92213694-a46a-4bdb-b817-31d8e21ceab9",
   "metadata": {
    "tags": []
   },
   "outputs": [],
   "source": [
    "y_pred = best_rf.predict(X_test_fe)\n",
    "metrics.confusion_matrix(y_test, y_pred)"
   ]
  },
  {
   "cell_type": "code",
   "execution_count": null,
   "id": "438c577f-2740-48a9-b17b-d79d9137701e",
   "metadata": {
    "tags": []
   },
   "outputs": [],
   "source": [
    "Test_pred = pd.DataFrame()\n",
    "Test_pred['Actual'] = y_test\n",
    "Test_pred['Predicted'] = y_pred\n",
    "Test_pred.head()"
   ]
  },
  {
   "cell_type": "markdown",
   "id": "266f4d73-502a-4b78-a49e-ad6f32fdb6a5",
   "metadata": {},
   "source": [
    "## Using the model to assign probabilities to the entire data set"
   ]
  },
  {
   "cell_type": "code",
   "execution_count": null,
   "id": "7186689c-0527-48c7-be21-63ebfae9c327",
   "metadata": {},
   "outputs": [],
   "source": []
  },
  {
   "cell_type": "code",
   "execution_count": null,
   "id": "4528fff3-5eb1-44ec-ada8-dbc3431b5e5c",
   "metadata": {},
   "outputs": [],
   "source": [
    "results = df_fe.copy()\n",
    "results['churn_pred'] = best_rf.predict(X_train_fe)\n",
    "results['churn_prob'] = best_rf.predict_proba(X_train_fe)[:,1]"
   ]
  },
  {
   "cell_type": "code",
   "execution_count": null,
   "id": "a7e4fc36-c87c-4879-bcb7-9c9a49831b6d",
   "metadata": {},
   "outputs": [],
   "source": []
  },
  {
   "cell_type": "code",
   "execution_count": null,
   "id": "c77b9b5b-950e-498b-a4e8-f85c739abb5a",
   "metadata": {},
   "outputs": [],
   "source": []
  }
 ],
 "metadata": {
  "kernelspec": {
   "display_name": "Python 3 (ipykernel)",
   "language": "python",
   "name": "python3"
  },
  "language_info": {
   "codemirror_mode": {
    "name": "ipython",
    "version": 3
   },
   "file_extension": ".py",
   "mimetype": "text/x-python",
   "name": "python",
   "nbconvert_exporter": "python",
   "pygments_lexer": "ipython3",
   "version": "3.9.7"
  }
 },
 "nbformat": 4,
 "nbformat_minor": 5
}
